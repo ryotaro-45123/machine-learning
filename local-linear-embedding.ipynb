{
 "cells": [
  {
   "cell_type": "code",
   "execution_count": 1,
   "metadata": {},
   "outputs": [],
   "source": [
    "#Import libraries\n",
    "from sklearn.datasets import make_swiss_roll\n",
    "from sklearn.manifold import LocallyLinearEmbedding"
   ]
  },
  {
   "cell_type": "code",
   "execution_count": 2,
   "metadata": {},
   "outputs": [],
   "source": [
    "#Make data\n",
    "data, color = make_swiss_roll(n_samples=1500)"
   ]
  },
  {
   "cell_type": "code",
   "execution_count": 3,
   "metadata": {},
   "outputs": [
    {
     "name": "stdout",
     "output_type": "stream",
     "text": [
      "[[ 0.0070556   0.00324493]\n",
      " [ 0.01463093 -0.004195  ]\n",
      " [-0.02522758 -0.049323  ]\n",
      " ...\n",
      " [-0.03572235  0.04837238]\n",
      " [-0.02297077  0.05544344]\n",
      " [-0.00676866 -0.005078  ]]\n"
     ]
    }
   ],
   "source": [
    "#Apply model\n",
    "n_neighbors = 12\n",
    "n_components = 2\n",
    "model = LocallyLinearEmbedding(n_neighbors=n_neighbors, n_components=n_components)\n",
    "model.fit(data)\n",
    "print(model.transform(data))"
   ]
  },
  {
   "cell_type": "code",
   "execution_count": null,
   "metadata": {},
   "outputs": [],
   "source": []
  }
 ],
 "metadata": {
  "kernelspec": {
   "display_name": "Python 3",
   "language": "python",
   "name": "python3"
  },
  "language_info": {
   "codemirror_mode": {
    "name": "ipython",
    "version": 3
   },
   "file_extension": ".py",
   "mimetype": "text/x-python",
   "name": "python",
   "nbconvert_exporter": "python",
   "pygments_lexer": "ipython3",
   "version": "3.8.7"
  }
 },
 "nbformat": 4,
 "nbformat_minor": 4
}

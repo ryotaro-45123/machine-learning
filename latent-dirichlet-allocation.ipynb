{
 "cells": [
  {
   "cell_type": "code",
   "execution_count": 3,
   "metadata": {},
   "outputs": [],
   "source": [
    "#Import libraries\n",
    "from sklearn.datasets import fetch_20newsgroups\n",
    "from sklearn.feature_extraction.text import CountVectorizer\n",
    "from sklearn.decomposition import LatentDirichletAllocation"
   ]
  },
  {
   "cell_type": "code",
   "execution_count": 4,
   "metadata": {},
   "outputs": [],
   "source": [
    "#Make data\n",
    "data = fetch_20newsgroups(remove=('headers', 'footers', 'quotes'))"
   ]
  },
  {
   "cell_type": "code",
   "execution_count": 6,
   "metadata": {},
   "outputs": [
    {
     "name": "stdout",
     "output_type": "stream",
     "text": [
      "各トピックがもつ単語分布 [[1.26399406e+00 1.36121442e+01 5.00000001e-02 ... 1.12926620e+02\n",
      "  8.73578149e+00 3.25215707e+01]\n",
      " [5.00000000e-02 2.31292379e+01 5.00000000e-02 ... 1.65138081e+01\n",
      "  5.00000007e-02 1.24508953e+01]\n",
      " [1.61629632e+02 1.80145993e+02 7.87438117e+01 ... 5.00000006e-02\n",
      "  1.33219794e+01 2.23335547e+01]\n",
      " ...\n",
      " [5.00000007e-02 5.00000006e-02 5.00000002e-02 ... 4.42085602e+00\n",
      "  5.00000005e-02 5.00000014e-02]\n",
      " [5.00000004e-02 7.82431576e+01 5.00000141e-02 ... 5.00000006e-02\n",
      "  9.96355301e+01 1.42744970e+01]\n",
      " [5.00000002e-02 3.08749032e+01 5.00000003e-02 ... 7.44065045e+01\n",
      "  5.00000010e-02 5.53896039e-01]]\n",
      "トピックで表現された文書 [[2.08333336e-03 2.08333336e-03 2.08333333e-03 ... 2.08333335e-03\n",
      "  2.08333337e-03 6.46826291e-01]\n",
      " [2.50000004e-03 2.50000002e-03 2.50000001e-03 ... 2.50000006e-03\n",
      "  2.50000006e-03 2.50000006e-03]\n",
      " [6.02409647e-04 6.02409645e-04 6.02409639e-04 ... 6.02409645e-04\n",
      "  6.02409643e-04 6.02409651e-04]\n",
      " ...\n",
      " [4.54545459e-03 4.54545463e-03 4.54545455e-03 ... 1.08776528e-01\n",
      "  4.54545456e-03 6.28316883e-01]\n",
      " [2.94117651e-03 2.94117650e-03 2.94117647e-03 ... 2.94117649e-03\n",
      "  2.94117656e-03 2.94117656e-03]\n",
      " [3.08176145e-01 3.57142861e-03 2.11411062e-01 ... 2.22383629e-01\n",
      "  3.57142870e-03 2.00886306e-01]]\n",
      "(20, 1000)\n",
      "(11314, 20)\n"
     ]
    }
   ],
   "source": [
    "#Apply model\n",
    "max_features = 1000\n",
    "tf_vectorizer = CountVectorizer(max_features=max_features, stop_words='english')\n",
    "tf = tf_vectorizer.fit_transform(data.data)\n",
    "n_topics = 20\n",
    "model = LatentDirichletAllocation(n_components=n_topics)\n",
    "model.fit(tf)\n",
    "print('各トピックがもつ単語分布', model.components_)\n",
    "print('トピックで表現された文書', model.transform(tf))\n",
    "print(model.components_.shape)\n",
    "print(model.transform(tf).shape)"
   ]
  },
  {
   "cell_type": "code",
   "execution_count": null,
   "metadata": {},
   "outputs": [],
   "source": []
  }
 ],
 "metadata": {
  "kernelspec": {
   "display_name": "Python 3",
   "language": "python",
   "name": "python3"
  },
  "language_info": {
   "codemirror_mode": {
    "name": "ipython",
    "version": 3
   },
   "file_extension": ".py",
   "mimetype": "text/x-python",
   "name": "python",
   "nbconvert_exporter": "python",
   "pygments_lexer": "ipython3",
   "version": "3.8.7"
  }
 },
 "nbformat": 4,
 "nbformat_minor": 4
}
